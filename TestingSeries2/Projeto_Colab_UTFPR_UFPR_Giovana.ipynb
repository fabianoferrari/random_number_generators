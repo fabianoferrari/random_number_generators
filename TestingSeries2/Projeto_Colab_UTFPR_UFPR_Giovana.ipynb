{
  "nbformat": 4,
  "nbformat_minor": 0,
  "metadata": {
    "colab": {
      "provenance": []
    },
    "kernelspec": {
      "name": "python3",
      "display_name": "Python 3"
    },
    "language_info": {
      "name": "python"
    }
  },
  "cells": [
    {
      "cell_type": "markdown",
      "source": [
        "Serie Hipercaótica\n"
      ],
      "metadata": {
        "id": "wWHuvk0w7eWW"
      }
    },
    {
      "cell_type": "code",
      "execution_count": null,
      "metadata": {
        "id": "QpTEGIQ6RHPC"
      },
      "outputs": [],
      "source": [
        "#Time Series\n",
        "\n",
        "from math import sin,pi\n",
        "\n",
        "\n",
        "def FourDHyperChaosMap(x,y,z,w,a,b):\n",
        "\n",
        "  xv = x\n",
        "  yv = y\n",
        "  zv = z\n",
        "  wv = w\n",
        "\n",
        "  x = sin(a*((a*pi/xv)+(b*(yv+zv+wv))))*sin(a*((a*pi/xv)+(b*(yv+zv+wv))))\n",
        "  y = sin(a*((a*pi/yv)+(b*(xv+zv+wv))))*sin(a*((a*pi/yv)+(b*(xv+zv+wv))))\n",
        "  z = sin(a*((a*pi/zv)+(b*(yv+xv+wv))))*sin(a*((a*pi/zv)+(b*(yv+xv+wv))))\n",
        "  w = sin(a*((a*pi/wv)+(b*(yv+xv+zv))))*sin(a*((a*pi/wv)+(b*(yv+xv+zv))))\n",
        "\n",
        "  return x,y,z,w\n",
        "\n",
        "\n",
        "x0 = 0.121212\n",
        "y0 = 0.323232\n",
        "z0 = 0.434343\n",
        "w0 = 0.535353\n",
        "\n",
        "X0 = x0,y0,z0,w0\n",
        "\n",
        "\n",
        "\n",
        "a = 30.0\n",
        "b = 0.33\n",
        "\n",
        "x,y,z,w = X0\n",
        "\n",
        "\n",
        "import struct\n",
        "\n",
        "def float2bin(f):\n",
        "    ''' Convert float to 64-bit binary string.\n",
        "\n",
        "    Attributes:\n",
        "        :f: Float number to transform.\n",
        "    '''\n",
        "    [d] = struct.unpack(\">Q\", struct.pack(\">d\", f))\n",
        "    return f'{d:064b}'\n",
        "\n",
        "import textwrap\n",
        "\n",
        "def NewBinaryNumberFunction(binaryNumber):\n",
        "\n",
        "  splittedBinaryNumber = textwrap.wrap(binaryNumber, 8)\n",
        "\n",
        "  return splittedBinaryNumber[5]\n",
        "\n",
        "\n",
        "\n",
        "n_tra = 1000\n",
        "\n",
        "for n in range(n_tra):\n",
        "\n",
        "  x,y,z,w = FourDHyperChaosMap(x,y,z,w,a,b)\n",
        "\n",
        "n_ite = 10000\n",
        "\n",
        "x_vector = []\n",
        "y_vector = []\n",
        "z_vector = []\n",
        "w_vector = []\n",
        "\n",
        "for n in range(n_ite):\n",
        "\n",
        "  x,y,z,w = FourDHyperChaosMap(x,y,z,w,a,b)\n",
        "\n",
        "  binaryX=float2bin(x)\n",
        "  binaryY=float2bin(y)\n",
        "  binaryZ=float2bin(z)\n",
        "  binaryW=float2bin(w)\n",
        "\n",
        "  keyX=NewBinaryNumberFunction(binaryX)\n",
        "  keyY=NewBinaryNumberFunction(binaryY)\n",
        "  keyZ=NewBinaryNumberFunction(binaryZ)\n",
        "  keyW=NewBinaryNumberFunction(binaryW)\n",
        "\n",
        "  x_vector.append(int(keyX,2))\n",
        "  y_vector.append(int(keyY,2))\n",
        "  z_vector.append(int(keyZ,2))\n",
        "  w_vector.append(int(keyW,2))\n",
        "\n",
        "import numpy as np\n",
        "\n",
        "x_vector = np.array(x_vector)\n",
        "\n",
        "np.savetxt('serie1.csv',x_vector)"
      ]
    },
    {
      "cell_type": "markdown",
      "source": [
        "Série Aleatória"
      ],
      "metadata": {
        "id": "CvCkNYLp7j16"
      }
    },
    {
      "cell_type": "code",
      "source": [
        "#Time Series\n",
        "\n",
        "\n",
        "n_ite = 10000\n",
        "\n",
        "x_vector = []\n",
        "\n",
        "import random\n",
        "\n",
        "for n in range(n_ite):\n",
        "\n",
        "  x=random.randint(0, 256)\n",
        "\n",
        "  x_vector.append(x)\n",
        "\n",
        "\n",
        "import numpy as np\n",
        "\n",
        "x_vector = np.array(x_vector)\n",
        "\n",
        "np.savetxt('serie2.csv',x_vector)"
      ],
      "metadata": {
        "id": "03dgAciS7lbj"
      },
      "execution_count": null,
      "outputs": []
    },
    {
      "cell_type": "markdown",
      "source": [
        "Série Linear"
      ],
      "metadata": {
        "id": "Xixc7f4m74ET"
      }
    },
    {
      "cell_type": "code",
      "source": [
        "#Time Series\n",
        "\n",
        "import numpy as np\n",
        "\n",
        "n_ite = 10000\n",
        "\n",
        "x_vector = np.linspace(0,256,n_ite)\n",
        "\n",
        "np.savetxt('serie3.csv',x_vector)"
      ],
      "metadata": {
        "id": "I5CSVYR876GP"
      },
      "execution_count": null,
      "outputs": []
    },
    {
      "cell_type": "markdown",
      "source": [
        "**Mapa Logístico**"
      ],
      "metadata": {
        "id": "j79ApuP6ZDNY"
      }
    },
    {
      "cell_type": "code",
      "source": [
        "#Mapa Logístico\n",
        "\n",
        "def LogisticMap(x,a):\n",
        "  x = a*x*(1-x)\n",
        "  return x\n",
        "\n",
        "import numpy as np\n",
        "\n",
        "n_ite = 10000\n",
        "\n",
        "a = 3.999\n",
        "\n",
        "x0 = 0.123124\n",
        "\n",
        "n_tra = n_ite\n",
        "\n",
        "x = x0\n",
        "\n",
        "for n in range(n_tra):\n",
        "  x = LogisticMap(x,a)\n",
        "\n",
        "x_vector = []\n",
        "for n in range(n_tra):\n",
        "  x = LogisticMap(x,a)\n",
        "  z = int(x*256)\n",
        "  x_vector.append(z)\n",
        "\n",
        "x_vector = np.array(x_vector)\n",
        "np.savetxt('serie_logistic_map.csv',x_vector)\n",
        "\n",
        "import matplotlib.pyplot as plt\n",
        "\n",
        "plt.hist(x_vector)\n",
        "plt.show()\n"
      ],
      "metadata": {
        "colab": {
          "base_uri": "https://localhost:8080/",
          "height": 430
        },
        "id": "1vjPNTjyYo2c",
        "outputId": "4a414406-ad6a-4526-f0ed-a13e500423f8"
      },
      "execution_count": null,
      "outputs": [
        {
          "output_type": "display_data",
          "data": {
            "text/plain": [
              "<Figure size 640x480 with 1 Axes>"
            ],
            "image/png": "[encoded data removed]"
          },
          "metadata": {}
        }
      ]
    },
    {
      "cell_type": "markdown",
      "source": [
        "**4D Hyperchaotic Map**"
      ],
      "metadata": {
        "id": "8COgm-eZaZw7"
      }
    },
    {
      "cell_type": "code",
      "source": [
        "from math import sin,pi\n",
        "\n",
        "\n",
        "def FourDHyperChaosMap(x,y,z,w,a,b):\n",
        "\n",
        "  xv = x\n",
        "  yv = y\n",
        "  zv = z\n",
        "  wv = w\n",
        "\n",
        "  x = sin(a*((a*pi/xv)+(b*(yv+zv+wv))))*sin(a*((a*pi/xv)+(b*(yv+zv+wv))))\n",
        "  y = sin(a*((a*pi/yv)+(b*(xv+zv+wv))))*sin(a*((a*pi/yv)+(b*(xv+zv+wv))))\n",
        "  z = sin(a*((a*pi/zv)+(b*(yv+xv+wv))))*sin(a*((a*pi/zv)+(b*(yv+xv+wv))))\n",
        "  w = sin(a*((a*pi/wv)+(b*(yv+xv+zv))))*sin(a*((a*pi/wv)+(b*(yv+xv+zv))))\n",
        "\n",
        "  return x,y,z,w\n",
        "\n",
        "\n",
        "x0 = 0.121212\n",
        "y0 = 0.323232\n",
        "z0 = 0.434343\n",
        "w0 = 0.535353\n",
        "\n",
        "X0 = x0,y0,z0,w0\n",
        "\n",
        "\n",
        "import numpy as np\n",
        "\n",
        "n_ite = 10000\n",
        "\n",
        "n_tra = n_ite\n",
        "\n",
        "a = 30.0\n",
        "b = 0.33\n",
        "\n",
        "x,y,z,w = X0\n",
        "\n",
        "\n",
        "for n in range(n_tra):\n",
        "  x,y,z,w = FourDHyperChaosMap(x,y,z,w,a,b)\n",
        "\n",
        "x_vector = []\n",
        "\n",
        "for n in range(n_ite):\n",
        "\n",
        "  x,y,z,w = FourDHyperChaosMap(x,y,z,w,a,b)\n",
        "  aux = int(x*256)\n",
        "  x_vector.append(aux)\n",
        "\n",
        "\n",
        "x_vector = np.array(x_vector)\n",
        "\n",
        "np.savetxt('serie_hyperchotic_map_x_variable.csv',x_vector)\n",
        "\n",
        "import matplotlib.pyplot as plt\n",
        "\n",
        "plt.hist(x_vector)\n",
        "plt.show()"
      ],
      "metadata": {
        "colab": {
          "base_uri": "https://localhost:8080/",
          "height": 430
        },
        "id": "iXY5rRGCaYcr",
        "outputId": "34740e6a-bc14-4126-e5b4-eb467a23f952"
      },
      "execution_count": 10,
      "outputs": [
        {
          "output_type": "display_data",
          "data": {
            "text/plain": [
              "<Figure size 640x480 with 1 Axes>"
            ],
            "image/png": "[encoded data removed]"
          },
          "metadata": {}
        }
      ]
    }
  ]
}